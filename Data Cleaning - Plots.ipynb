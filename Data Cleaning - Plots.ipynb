{
 "cells": [
  {
   "cell_type": "markdown",
   "id": "58010a21",
   "metadata": {},
   "source": [
    "# <center>Plots y visualización de los datos</center> #"
   ]
  },
  {
   "cell_type": "code",
   "execution_count": 41,
   "id": "98193cce",
   "metadata": {},
   "outputs": [],
   "source": [
    "import pandas as pd\n",
    "import os\n",
    "import matplotlib.pyplot as plt #para realizar multiples plot o polplots o multiples paneles dentro de la misma imagen\n",
    "#con el paquete pyplot llamamos al metodo subplots\n",
    "import numpy as np #importamos porque también posee metodos matemáticos como la aplicación de logaritmos"
   ]
  },
  {
   "cell_type": "code",
   "execution_count": 3,
   "id": "cf02a727",
   "metadata": {},
   "outputs": [],
   "source": [
    "mainpath = os.path.join(os.getcwd(), \"python-ml-course-master/datasets\")\n",
    "filename = \"customer-churn-model/Customer Churn Model.txt\""
   ]
  },
  {
   "cell_type": "code",
   "execution_count": 4,
   "id": "6c6e35aa",
   "metadata": {},
   "outputs": [],
   "source": [
    "data = pd.read_csv(os.path.join(mainpath, filename))"
   ]
  },
  {
   "cell_type": "code",
   "execution_count": 6,
   "id": "9f34cd1c",
   "metadata": {},
   "outputs": [
    {
     "data": {
      "text/html": [
       "<div>\n",
       "<style scoped>\n",
       "    .dataframe tbody tr th:only-of-type {\n",
       "        vertical-align: middle;\n",
       "    }\n",
       "\n",
       "    .dataframe tbody tr th {\n",
       "        vertical-align: top;\n",
       "    }\n",
       "\n",
       "    .dataframe thead th {\n",
       "        text-align: right;\n",
       "    }\n",
       "</style>\n",
       "<table border=\"1\" class=\"dataframe\">\n",
       "  <thead>\n",
       "    <tr style=\"text-align: right;\">\n",
       "      <th></th>\n",
       "      <th>State</th>\n",
       "      <th>Account Length</th>\n",
       "      <th>Area Code</th>\n",
       "      <th>Phone</th>\n",
       "      <th>Int'l Plan</th>\n",
       "      <th>VMail Plan</th>\n",
       "      <th>VMail Message</th>\n",
       "      <th>Day Mins</th>\n",
       "      <th>Day Calls</th>\n",
       "      <th>Day Charge</th>\n",
       "      <th>...</th>\n",
       "      <th>Eve Calls</th>\n",
       "      <th>Eve Charge</th>\n",
       "      <th>Night Mins</th>\n",
       "      <th>Night Calls</th>\n",
       "      <th>Night Charge</th>\n",
       "      <th>Intl Mins</th>\n",
       "      <th>Intl Calls</th>\n",
       "      <th>Intl Charge</th>\n",
       "      <th>CustServ Calls</th>\n",
       "      <th>Churn?</th>\n",
       "    </tr>\n",
       "  </thead>\n",
       "  <tbody>\n",
       "    <tr>\n",
       "      <th>0</th>\n",
       "      <td>KS</td>\n",
       "      <td>128</td>\n",
       "      <td>415</td>\n",
       "      <td>382-4657</td>\n",
       "      <td>no</td>\n",
       "      <td>yes</td>\n",
       "      <td>25</td>\n",
       "      <td>265.1</td>\n",
       "      <td>110</td>\n",
       "      <td>45.07</td>\n",
       "      <td>...</td>\n",
       "      <td>99</td>\n",
       "      <td>16.78</td>\n",
       "      <td>244.7</td>\n",
       "      <td>91</td>\n",
       "      <td>11.01</td>\n",
       "      <td>10.0</td>\n",
       "      <td>3</td>\n",
       "      <td>2.70</td>\n",
       "      <td>1</td>\n",
       "      <td>False.</td>\n",
       "    </tr>\n",
       "    <tr>\n",
       "      <th>1</th>\n",
       "      <td>OH</td>\n",
       "      <td>107</td>\n",
       "      <td>415</td>\n",
       "      <td>371-7191</td>\n",
       "      <td>no</td>\n",
       "      <td>yes</td>\n",
       "      <td>26</td>\n",
       "      <td>161.6</td>\n",
       "      <td>123</td>\n",
       "      <td>27.47</td>\n",
       "      <td>...</td>\n",
       "      <td>103</td>\n",
       "      <td>16.62</td>\n",
       "      <td>254.4</td>\n",
       "      <td>103</td>\n",
       "      <td>11.45</td>\n",
       "      <td>13.7</td>\n",
       "      <td>3</td>\n",
       "      <td>3.70</td>\n",
       "      <td>1</td>\n",
       "      <td>False.</td>\n",
       "    </tr>\n",
       "    <tr>\n",
       "      <th>2</th>\n",
       "      <td>NJ</td>\n",
       "      <td>137</td>\n",
       "      <td>415</td>\n",
       "      <td>358-1921</td>\n",
       "      <td>no</td>\n",
       "      <td>no</td>\n",
       "      <td>0</td>\n",
       "      <td>243.4</td>\n",
       "      <td>114</td>\n",
       "      <td>41.38</td>\n",
       "      <td>...</td>\n",
       "      <td>110</td>\n",
       "      <td>10.30</td>\n",
       "      <td>162.6</td>\n",
       "      <td>104</td>\n",
       "      <td>7.32</td>\n",
       "      <td>12.2</td>\n",
       "      <td>5</td>\n",
       "      <td>3.29</td>\n",
       "      <td>0</td>\n",
       "      <td>False.</td>\n",
       "    </tr>\n",
       "    <tr>\n",
       "      <th>3</th>\n",
       "      <td>OH</td>\n",
       "      <td>84</td>\n",
       "      <td>408</td>\n",
       "      <td>375-9999</td>\n",
       "      <td>yes</td>\n",
       "      <td>no</td>\n",
       "      <td>0</td>\n",
       "      <td>299.4</td>\n",
       "      <td>71</td>\n",
       "      <td>50.90</td>\n",
       "      <td>...</td>\n",
       "      <td>88</td>\n",
       "      <td>5.26</td>\n",
       "      <td>196.9</td>\n",
       "      <td>89</td>\n",
       "      <td>8.86</td>\n",
       "      <td>6.6</td>\n",
       "      <td>7</td>\n",
       "      <td>1.78</td>\n",
       "      <td>2</td>\n",
       "      <td>False.</td>\n",
       "    </tr>\n",
       "    <tr>\n",
       "      <th>4</th>\n",
       "      <td>OK</td>\n",
       "      <td>75</td>\n",
       "      <td>415</td>\n",
       "      <td>330-6626</td>\n",
       "      <td>yes</td>\n",
       "      <td>no</td>\n",
       "      <td>0</td>\n",
       "      <td>166.7</td>\n",
       "      <td>113</td>\n",
       "      <td>28.34</td>\n",
       "      <td>...</td>\n",
       "      <td>122</td>\n",
       "      <td>12.61</td>\n",
       "      <td>186.9</td>\n",
       "      <td>121</td>\n",
       "      <td>8.41</td>\n",
       "      <td>10.1</td>\n",
       "      <td>3</td>\n",
       "      <td>2.73</td>\n",
       "      <td>3</td>\n",
       "      <td>False.</td>\n",
       "    </tr>\n",
       "  </tbody>\n",
       "</table>\n",
       "<p>5 rows × 21 columns</p>\n",
       "</div>"
      ],
      "text/plain": [
       "  State  Account Length  Area Code     Phone Int'l Plan VMail Plan  \\\n",
       "0    KS             128        415  382-4657         no        yes   \n",
       "1    OH             107        415  371-7191         no        yes   \n",
       "2    NJ             137        415  358-1921         no         no   \n",
       "3    OH              84        408  375-9999        yes         no   \n",
       "4    OK              75        415  330-6626        yes         no   \n",
       "\n",
       "   VMail Message  Day Mins  Day Calls  Day Charge  ...  Eve Calls  Eve Charge  \\\n",
       "0             25     265.1        110       45.07  ...         99       16.78   \n",
       "1             26     161.6        123       27.47  ...        103       16.62   \n",
       "2              0     243.4        114       41.38  ...        110       10.30   \n",
       "3              0     299.4         71       50.90  ...         88        5.26   \n",
       "4              0     166.7        113       28.34  ...        122       12.61   \n",
       "\n",
       "   Night Mins  Night Calls  Night Charge  Intl Mins  Intl Calls  Intl Charge  \\\n",
       "0       244.7           91         11.01       10.0           3         2.70   \n",
       "1       254.4          103         11.45       13.7           3         3.70   \n",
       "2       162.6          104          7.32       12.2           5         3.29   \n",
       "3       196.9           89          8.86        6.6           7         1.78   \n",
       "4       186.9          121          8.41       10.1           3         2.73   \n",
       "\n",
       "   CustServ Calls  Churn?  \n",
       "0               1  False.  \n",
       "1               1  False.  \n",
       "2               0  False.  \n",
       "3               2  False.  \n",
       "4               3  False.  \n",
       "\n",
       "[5 rows x 21 columns]"
      ]
     },
     "execution_count": 6,
     "metadata": {},
     "output_type": "execute_result"
    }
   ],
   "source": [
    "data.head()"
   ]
  },
  {
   "cell_type": "markdown",
   "id": "b8cc63dd",
   "metadata": {},
   "source": [
    "##### Opciones de plot al trabajar con un notebook #####"
   ]
  },
  {
   "cell_type": "markdown",
   "id": "bc0a589c",
   "metadata": {},
   "source": [
    "Realiza el plot o varios plots dentro de la misma celda"
   ]
  },
  {
   "cell_type": "code",
   "execution_count": 14,
   "id": "d3d01cc3",
   "metadata": {},
   "outputs": [],
   "source": [
    "%matplotlib inline"
   ]
  },
  {
   "cell_type": "markdown",
   "id": "4d27aadb",
   "metadata": {},
   "source": [
    "Guardar un plot en el directorio local"
   ]
  },
  {
   "cell_type": "code",
   "execution_count": 15,
   "id": "abfcd95f",
   "metadata": {},
   "outputs": [],
   "source": [
    "#savefig (\"path_donde_guardar_im.jpeg\")"
   ]
  },
  {
   "cell_type": "markdown",
   "id": "4cbf2297",
   "metadata": {},
   "source": [
    "### Scatter Plot ###\n",
    "Nube de dispersión o nube de puntos\n",
    "<br>\n",
    "Nos sirve para mostrar correlaciones entre dos variables"
   ]
  },
  {
   "cell_type": "markdown",
   "id": "558e9d4a",
   "metadata": {},
   "source": [
    "kind = Tipo de representación gráfica"
   ]
  },
  {
   "cell_type": "code",
   "execution_count": 16,
   "id": "61a17ea2",
   "metadata": {},
   "outputs": [
    {
     "data": {
      "text/plain": [
       "<AxesSubplot:xlabel='Day Mins', ylabel='Day Charge'>"
      ]
     },
     "execution_count": 16,
     "metadata": {},
     "output_type": "execute_result"
    },
    {
     "data": {
      "image/png": "[encoded data removed]",
      "text/plain": [
       "<Figure size 432x288 with 1 Axes>"
      ]
     },
     "metadata": {
      "needs_background": "light"
     },
     "output_type": "display_data"
    }
   ],
   "source": [
    "data.plot(kind=\"scatter\", x=\"Day Mins\", y=\"Day Charge\")"
   ]
  },
  {
   "cell_type": "code",
   "execution_count": 17,
   "id": "4e2a8564",
   "metadata": {},
   "outputs": [
    {
     "data": {
      "text/plain": [
       "<AxesSubplot:xlabel='Night Mins', ylabel='Night Charge'>"
      ]
     },
     "execution_count": 17,
     "metadata": {},
     "output_type": "execute_result"
    },
    {
     "data": {
      "image/png": "[encoded data removed]",
      "text/plain": [
       "<Figure size 432x288 with 1 Axes>"
      ]
     },
     "metadata": {
      "needs_background": "light"
     },
     "output_type": "display_data"
    }
   ],
   "source": [
    "data.plot(kind=\"scatter\", x=\"Night Mins\", y=\"Night Charge\")"
   ]
  },
  {
   "cell_type": "code",
   "execution_count": 23,
   "id": "f205c8d0",
   "metadata": {},
   "outputs": [
    {
     "data": {
      "image/png": "[encoded data removed]",
      "text/plain": [
       "<Figure size 432x288 with 4 Axes>"
      ]
     },
     "metadata": {
      "needs_background": "light"
     },
     "output_type": "display_data"
    }
   ],
   "source": [
    "#figure, variable para crear el dibujo\n",
    "#axs, variable para hacer los ejes\n",
    "#2,2 = matriz de 2x2\n",
    "#sharey = las matrices compartiran el mismo eje Y\n",
    "#sharex = las matrices compartiran el mismo eje X\n",
    "\n",
    "figure, axs = plt.subplots (2,2, sharey=True, sharex=True)"
   ]
  },
  {
   "cell_type": "code",
   "execution_count": 25,
   "id": "4dd3a6d1",
   "metadata": {},
   "outputs": [
    {
     "data": {
      "text/plain": [
       "<AxesSubplot:xlabel='Day Mins', ylabel='Day Charge'>"
      ]
     },
     "execution_count": 25,
     "metadata": {},
     "output_type": "execute_result"
    }
   ],
   "source": [
    "data.plot(kind=\"scatter\", x=\"Day Mins\", y=\"Day Charge\", ax = axs[0][0])"
   ]
  },
  {
   "cell_type": "code",
   "execution_count": 27,
   "id": "d3167c54",
   "metadata": {},
   "outputs": [
    {
     "data": {
      "text/plain": [
       "<AxesSubplot:xlabel='Day Mins', ylabel='Day Charge'>"
      ]
     },
     "execution_count": 27,
     "metadata": {},
     "output_type": "execute_result"
    },
    {
     "data": {
      "image/png": "[encoded data removed]",
      "text/plain": [
       "<Figure size 432x288 with 4 Axes>"
      ]
     },
     "metadata": {
      "needs_background": "light"
     },
     "output_type": "display_data"
    }
   ],
   "source": [
    "#Debido al comando \"%matplotlib inline\", los gráficos deben ser ejecutados en la misma celda\n",
    "\n",
    "figure, axs = plt.subplots (2,2, sharey=True, sharex=True)\n",
    "data.plot(kind=\"scatter\", x=\"Day Mins\", y=\"Day Charge\", ax = axs[0][0])"
   ]
  },
  {
   "cell_type": "code",
   "execution_count": 29,
   "id": "297c4eaf",
   "metadata": {},
   "outputs": [
    {
     "data": {
      "text/plain": [
       "<AxesSubplot:xlabel='Night Calls', ylabel='Night Charge'>"
      ]
     },
     "execution_count": 29,
     "metadata": {},
     "output_type": "execute_result"
    },
    {
     "data": {
      "image/png": "[encoded data removed]",
      "text/plain": [
       "<Figure size 432x288 with 4 Axes>"
      ]
     },
     "metadata": {
      "needs_background": "light"
     },
     "output_type": "display_data"
    }
   ],
   "source": [
    "figure, axs = plt.subplots (2,2, sharey=True, sharex=True)\n",
    "data.plot(kind=\"scatter\", x=\"Day Mins\", y=\"Day Charge\", ax = axs[0][0])\n",
    "data.plot(kind=\"scatter\", x=\"Night Mins\", y=\"Night Charge\", ax = axs[0][1])\n",
    "data.plot(kind=\"scatter\", x=\"Day Calls\", y=\"Day Charge\", ax = axs[1][0])\n",
    "data.plot(kind=\"scatter\", x=\"Night Calls\", y=\"Night Charge\", ax = axs[1][1])"
   ]
  },
  {
   "cell_type": "markdown",
   "id": "01ba65bc",
   "metadata": {},
   "source": [
    "### Histogramas de frecuencias ###\n",
    "Comunmente llamado gráfico de los tontos ya que no hace falta tener muchos conocimientos para poder ser interpretado"
   ]
  },
  {
   "cell_type": "markdown",
   "id": "21d9b214",
   "metadata": {},
   "source": [
    "El histograma es un gran modo de ver como se distrubuye una información numérica, una variable numérica\n",
    "<br>\n",
    "De golpe obtenemos una visión de los rangos o los grupos"
   ]
  },
  {
   "cell_type": "code",
   "execution_count": 52,
   "id": "75792683",
   "metadata": {},
   "outputs": [
    {
     "data": {
      "text/plain": [
       "Text(0.5, 1.0, 'Histograma del número de llamadas al día')"
      ]
     },
     "execution_count": 52,
     "metadata": {},
     "output_type": "execute_result"
    },
    {
     "data": {
      "image/png": "[encoded data removed]",
      "text/plain": [
       "<Figure size 432x288 with 1 Axes>"
      ]
     },
     "metadata": {
      "needs_background": "light"
     },
     "output_type": "display_data"
    }
   ],
   "source": [
    "#bins, controla el número de divisiones\n",
    "plt.hist(data[\"Day Calls\"], bins=20)\n",
    "\n",
    "plt.xlabel(\"Número de llamadas al día\") #Etiqueta en el eje X\n",
    "plt.ylabel(\"Frecuencia\") #Etiqueta en el eje Y\n",
    "plt.title(\"Histograma del número de llamadas al día\") #Título del gráfico"
   ]
  },
  {
   "cell_type": "code",
   "execution_count": 53,
   "id": "993a58d9",
   "metadata": {},
   "outputs": [
    {
     "data": {
      "text/plain": [
       "Text(0.5, 1.0, 'Histograma del número de llamadas al día')"
      ]
     },
     "execution_count": 53,
     "metadata": {},
     "output_type": "execute_result"
    },
    {
     "data": {
      "image/png": "[encoded data removed]",
      "text/plain": [
       "<Figure size 432x288 with 1 Axes>"
      ]
     },
     "metadata": {
      "needs_background": "light"
     },
     "output_type": "display_data"
    }
   ],
   "source": [
    "#bins, También le podemos pasar un número de divisiones fijas o una lista de divisiones\n",
    "plt.hist(data[\"Day Calls\"], bins=[0, 60, 90, 120, 150, 180])\n",
    "\n",
    "plt.xlabel(\"Número de llamadas al día\")\n",
    "plt.ylabel(\"Frecuencia\")\n",
    "plt.title(\"Histograma del número de llamadas al día\")"
   ]
  },
  {
   "cell_type": "markdown",
   "id": "8141bc1a",
   "metadata": {},
   "source": [
    "##### Regla de Sturges #####\n",
    "Establece la regla para saber cuantas divisiones debe llevar un histograma\n",
    "<br>\n",
    "<ul>\n",
    "<li><b>struger = log2 (M)</b></li>\n",
    "</ul>\n",
    "log2 = logaritmo base 2\n",
    "<br>\n",
    "M = Tamaño de la muestra (número total de filas del Data set)"
   ]
  },
  {
   "cell_type": "code",
   "execution_count": 44,
   "id": "f5b5f5fc",
   "metadata": {},
   "outputs": [
    {
     "data": {
      "text/plain": [
       "1.0"
      ]
     },
     "execution_count": 44,
     "metadata": {},
     "output_type": "execute_result"
    }
   ],
   "source": [
    "np.log2(2)"
   ]
  },
  {
   "cell_type": "code",
   "execution_count": 48,
   "id": "9a329039",
   "metadata": {},
   "outputs": [
    {
     "data": {
      "text/plain": [
       "13.0"
      ]
     },
     "execution_count": 48,
     "metadata": {},
     "output_type": "execute_result"
    }
   ],
   "source": [
    "#ceil(), redondea hacia arriba\n",
    "#Tamaño de la muestra del dataset = 3333\n",
    "\n",
    "np.ceil(1 + np.log2(3333))"
   ]
  },
  {
   "cell_type": "code",
   "execution_count": 49,
   "id": "db2aec14",
   "metadata": {},
   "outputs": [
    {
     "data": {
      "text/plain": [
       "13"
      ]
     },
     "execution_count": 49,
     "metadata": {},
     "output_type": "execute_result"
    }
   ],
   "source": [
    "#bins recibe valores tipo enteros y no flotantes\n",
    "\n",
    "int(np.ceil(1 + np.log2(3333)))"
   ]
  },
  {
   "cell_type": "code",
   "execution_count": 54,
   "id": "4e1c708f",
   "metadata": {},
   "outputs": [
    {
     "data": {
      "text/plain": [
       "Text(0.5, 1.0, 'Histograma del número de llamadas al día')"
      ]
     },
     "execution_count": 54,
     "metadata": {},
     "output_type": "execute_result"
    },
    {
     "data": {
      "image/png": "[encoded data removed]",
      "text/plain": [
       "<Figure size 432x288 with 1 Axes>"
      ]
     },
     "metadata": {
      "needs_background": "light"
     },
     "output_type": "display_data"
    }
   ],
   "source": [
    "k = int(np.ceil(1 + np.log2(3333)))\n",
    "\n",
    "plt.hist(data[\"Day Calls\"], bins= k)\n",
    "\n",
    "plt.xlabel(\"Número de llamadas al día\")\n",
    "plt.ylabel(\"Frecuencia\")\n",
    "plt.title(\"Histograma del número de llamadas al día\")"
   ]
  },
  {
   "cell_type": "markdown",
   "id": "eb6bfddc",
   "metadata": {},
   "source": [
    "### Boxplot, diagrama de caja y bigotes ###\n",
    "Ayuda a entender la distrubución de una variable numérica\n",
    "<br>\n",
    "La caja indica donde se encuentran los valores centrales, cuantiles 25, 50 y 75 porciento"
   ]
  },
  {
   "cell_type": "code",
   "execution_count": 56,
   "id": "b0f7a753",
   "metadata": {},
   "outputs": [
    {
     "data": {
      "text/plain": [
       "Text(0.5, 1.0, 'Boxplot de las llamadas diarias')"
      ]
     },
     "execution_count": 56,
     "metadata": {},
     "output_type": "execute_result"
    },
    {
     "data": {
      "image/png": "[encoded data removed]",
      "text/plain": [
       "<Figure size 432x288 with 1 Axes>"
      ]
     },
     "metadata": {
      "needs_background": "light"
     },
     "output_type": "display_data"
    }
   ],
   "source": [
    "plt.boxplot(data[\"Day Calls\"])\n",
    "\n",
    "plt.ylabel(\"Número de llamadas diarias\")\n",
    "plt.title(\"Boxplot de las llamadas diarias\")"
   ]
  },
  {
   "cell_type": "markdown",
   "id": "c520e29b",
   "metadata": {},
   "source": [
    "Valores aoutlayer (valor fuera de lugar) son representados con bolitas"
   ]
  },
  {
   "cell_type": "code",
   "execution_count": 57,
   "id": "3f11c450",
   "metadata": {},
   "outputs": [
    {
     "data": {
      "text/plain": [
       "count    3333.000000\n",
       "mean      100.435644\n",
       "std        20.069084\n",
       "min         0.000000\n",
       "25%        87.000000\n",
       "50%       101.000000\n",
       "75%       114.000000\n",
       "max       165.000000\n",
       "Name: Day Calls, dtype: float64"
      ]
     },
     "execution_count": 57,
     "metadata": {},
     "output_type": "execute_result"
    }
   ],
   "source": [
    "data[\"Day Calls\"].describe()"
   ]
  },
  {
   "cell_type": "code",
   "execution_count": 1,
   "id": "a0d4bad7",
   "metadata": {},
   "outputs": [
    {
     "data": {
      "text/plain": [
       "27"
      ]
     },
     "execution_count": 1,
     "metadata": {},
     "output_type": "execute_result"
    }
   ],
   "source": [
    "#Rango intercuartilico\n",
    "#Inter Quartil Range\n",
    "#Sirve para saber las dimensiones de la caja, tamaño\n",
    "IQR=114-87\n",
    "IQR"
   ]
  },
  {
   "cell_type": "code",
   "execution_count": 76,
   "id": "97964ae9",
   "metadata": {},
   "outputs": [
    {
     "data": {
      "text/plain": [
       "27.0"
      ]
     },
     "execution_count": 76,
     "metadata": {},
     "output_type": "execute_result"
    }
   ],
   "source": [
    "IQR = data[\"Day Calls\"].quantile(0.75) - data[\"Day Calls\"].quantile(0.25)\n",
    "IQR"
   ]
  },
  {
   "cell_type": "code",
   "execution_count": 77,
   "id": "578137d4",
   "metadata": {},
   "outputs": [
    {
     "data": {
      "text/plain": [
       "46.5"
      ]
     },
     "execution_count": 77,
     "metadata": {},
     "output_type": "execute_result"
    }
   ],
   "source": [
    "#Muestra el lugar donde empieza y donde acaba el bigote de la caja\n",
    "\n",
    "#bigote inferior, se toma el primer cuantil y se resta 1.5 veces el rango intercuantilico\n",
    "data[\"Day Calls\"].quantile(0.25) - 1.5*IQR"
   ]
  },
  {
   "cell_type": "code",
   "execution_count": 78,
   "id": "7b4c9819",
   "metadata": {},
   "outputs": [
    {
     "data": {
      "text/plain": [
       "154.5"
      ]
     },
     "execution_count": 78,
     "metadata": {},
     "output_type": "execute_result"
    }
   ],
   "source": [
    "#bigote superior, se toma el tercer cuantil y se le suma 1.5 veces el rango intercuantilico\n",
    "data[\"Day Calls\"].quantile(0.75) + 1.5*IQR"
   ]
  },
  {
   "cell_type": "code",
   "execution_count": null,
   "id": "92a4bc52",
   "metadata": {},
   "outputs": [],
   "source": []
  },
  {
   "cell_type": "code",
   "execution_count": null,
   "id": "535378e2",
   "metadata": {},
   "outputs": [],
   "source": []
  }
 ],
 "metadata": {
  "kernelspec": {
   "display_name": "Python 3",
   "language": "python",
   "name": "python3"
  },
  "language_info": {
   "codemirror_mode": {
    "name": "ipython",
    "version": 3
   },
   "file_extension": ".py",
   "mimetype": "text/x-python",
   "name": "python",
   "nbconvert_exporter": "python",
   "pygments_lexer": "ipython3",
   "version": "3.8.10"
  }
 },
 "nbformat": 4,
 "nbformat_minor": 5
}
